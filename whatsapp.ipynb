{
 "cells": [
  {
   "cell_type": "markdown",
   "metadata": {},
   "source": [
    "# Whatsapp Bot"
   ]
  },
  {
   "cell_type": "code",
   "execution_count": 2,
   "metadata": {},
   "outputs": [
    {
     "ename": "TimeoutException",
     "evalue": "Message: timeout: Timed out receiving message from renderer: 298.229\n  (Session info: chrome=95.0.4638.69)\n",
     "output_type": "error",
     "traceback": [
      "\u001b[1;31m---------------------------------------------------------------------------\u001b[0m",
      "\u001b[1;31mTimeoutException\u001b[0m                          Traceback (most recent call last)",
      "\u001b[1;32m<ipython-input-2-c730d63fc969>\u001b[0m in \u001b[0;36m<module>\u001b[1;34m\u001b[0m\n\u001b[0;32m     24\u001b[0m \u001b[1;33m\u001b[0m\u001b[0m\n\u001b[0;32m     25\u001b[0m \u001b[0murl\u001b[0m \u001b[1;33m=\u001b[0m \u001b[1;34m\"https://web.whatsapp.com/\"\u001b[0m\u001b[1;33m\u001b[0m\u001b[1;33m\u001b[0m\u001b[0m\n\u001b[1;32m---> 26\u001b[1;33m \u001b[0mdriver\u001b[0m\u001b[1;33m.\u001b[0m\u001b[0mget\u001b[0m\u001b[1;33m(\u001b[0m\u001b[0murl\u001b[0m\u001b[1;33m)\u001b[0m\u001b[1;33m\u001b[0m\u001b[1;33m\u001b[0m\u001b[0m\n\u001b[0m",
      "\u001b[1;32m~\\.conda\\envs\\dev_Env\\lib\\site-packages\\selenium\\webdriver\\remote\\webdriver.py\u001b[0m in \u001b[0;36mget\u001b[1;34m(self, url)\u001b[0m\n\u001b[0;32m    331\u001b[0m         \u001b[0mLoads\u001b[0m \u001b[0ma\u001b[0m \u001b[0mweb\u001b[0m \u001b[0mpage\u001b[0m \u001b[1;32min\u001b[0m \u001b[0mthe\u001b[0m \u001b[0mcurrent\u001b[0m \u001b[0mbrowser\u001b[0m \u001b[0msession\u001b[0m\u001b[1;33m.\u001b[0m\u001b[1;33m\u001b[0m\u001b[1;33m\u001b[0m\u001b[0m\n\u001b[0;32m    332\u001b[0m         \"\"\"\n\u001b[1;32m--> 333\u001b[1;33m         \u001b[0mself\u001b[0m\u001b[1;33m.\u001b[0m\u001b[0mexecute\u001b[0m\u001b[1;33m(\u001b[0m\u001b[0mCommand\u001b[0m\u001b[1;33m.\u001b[0m\u001b[0mGET\u001b[0m\u001b[1;33m,\u001b[0m \u001b[1;33m{\u001b[0m\u001b[1;34m'url'\u001b[0m\u001b[1;33m:\u001b[0m \u001b[0murl\u001b[0m\u001b[1;33m}\u001b[0m\u001b[1;33m)\u001b[0m\u001b[1;33m\u001b[0m\u001b[1;33m\u001b[0m\u001b[0m\n\u001b[0m\u001b[0;32m    334\u001b[0m \u001b[1;33m\u001b[0m\u001b[0m\n\u001b[0;32m    335\u001b[0m     \u001b[1;33m@\u001b[0m\u001b[0mproperty\u001b[0m\u001b[1;33m\u001b[0m\u001b[1;33m\u001b[0m\u001b[0m\n",
      "\u001b[1;32m~\\.conda\\envs\\dev_Env\\lib\\site-packages\\selenium\\webdriver\\remote\\webdriver.py\u001b[0m in \u001b[0;36mexecute\u001b[1;34m(self, driver_command, params)\u001b[0m\n\u001b[0;32m    319\u001b[0m         \u001b[0mresponse\u001b[0m \u001b[1;33m=\u001b[0m \u001b[0mself\u001b[0m\u001b[1;33m.\u001b[0m\u001b[0mcommand_executor\u001b[0m\u001b[1;33m.\u001b[0m\u001b[0mexecute\u001b[0m\u001b[1;33m(\u001b[0m\u001b[0mdriver_command\u001b[0m\u001b[1;33m,\u001b[0m \u001b[0mparams\u001b[0m\u001b[1;33m)\u001b[0m\u001b[1;33m\u001b[0m\u001b[1;33m\u001b[0m\u001b[0m\n\u001b[0;32m    320\u001b[0m         \u001b[1;32mif\u001b[0m \u001b[0mresponse\u001b[0m\u001b[1;33m:\u001b[0m\u001b[1;33m\u001b[0m\u001b[1;33m\u001b[0m\u001b[0m\n\u001b[1;32m--> 321\u001b[1;33m             \u001b[0mself\u001b[0m\u001b[1;33m.\u001b[0m\u001b[0merror_handler\u001b[0m\u001b[1;33m.\u001b[0m\u001b[0mcheck_response\u001b[0m\u001b[1;33m(\u001b[0m\u001b[0mresponse\u001b[0m\u001b[1;33m)\u001b[0m\u001b[1;33m\u001b[0m\u001b[1;33m\u001b[0m\u001b[0m\n\u001b[0m\u001b[0;32m    322\u001b[0m             response['value'] = self._unwrap_value(\n\u001b[0;32m    323\u001b[0m                 response.get('value', None))\n",
      "\u001b[1;32m~\\.conda\\envs\\dev_Env\\lib\\site-packages\\selenium\\webdriver\\remote\\errorhandler.py\u001b[0m in \u001b[0;36mcheck_response\u001b[1;34m(self, response)\u001b[0m\n\u001b[0;32m    240\u001b[0m                 \u001b[0malert_text\u001b[0m \u001b[1;33m=\u001b[0m \u001b[0mvalue\u001b[0m\u001b[1;33m[\u001b[0m\u001b[1;34m'alert'\u001b[0m\u001b[1;33m]\u001b[0m\u001b[1;33m.\u001b[0m\u001b[0mget\u001b[0m\u001b[1;33m(\u001b[0m\u001b[1;34m'text'\u001b[0m\u001b[1;33m)\u001b[0m\u001b[1;33m\u001b[0m\u001b[1;33m\u001b[0m\u001b[0m\n\u001b[0;32m    241\u001b[0m             \u001b[1;32mraise\u001b[0m \u001b[0mexception_class\u001b[0m\u001b[1;33m(\u001b[0m\u001b[0mmessage\u001b[0m\u001b[1;33m,\u001b[0m \u001b[0mscreen\u001b[0m\u001b[1;33m,\u001b[0m \u001b[0mstacktrace\u001b[0m\u001b[1;33m,\u001b[0m \u001b[0malert_text\u001b[0m\u001b[1;33m)\u001b[0m\u001b[1;33m\u001b[0m\u001b[1;33m\u001b[0m\u001b[0m\n\u001b[1;32m--> 242\u001b[1;33m         \u001b[1;32mraise\u001b[0m \u001b[0mexception_class\u001b[0m\u001b[1;33m(\u001b[0m\u001b[0mmessage\u001b[0m\u001b[1;33m,\u001b[0m \u001b[0mscreen\u001b[0m\u001b[1;33m,\u001b[0m \u001b[0mstacktrace\u001b[0m\u001b[1;33m)\u001b[0m\u001b[1;33m\u001b[0m\u001b[1;33m\u001b[0m\u001b[0m\n\u001b[0m\u001b[0;32m    243\u001b[0m \u001b[1;33m\u001b[0m\u001b[0m\n\u001b[0;32m    244\u001b[0m     \u001b[1;32mdef\u001b[0m \u001b[0m_value_or_default\u001b[0m\u001b[1;33m(\u001b[0m\u001b[0mself\u001b[0m\u001b[1;33m,\u001b[0m \u001b[0mobj\u001b[0m\u001b[1;33m,\u001b[0m \u001b[0mkey\u001b[0m\u001b[1;33m,\u001b[0m \u001b[0mdefault\u001b[0m\u001b[1;33m)\u001b[0m\u001b[1;33m:\u001b[0m\u001b[1;33m\u001b[0m\u001b[1;33m\u001b[0m\u001b[0m\n",
      "\u001b[1;31mTimeoutException\u001b[0m: Message: timeout: Timed out receiving message from renderer: 298.229\n  (Session info: chrome=95.0.4638.69)\n"
     ]
    }
   ],
   "source": [
    "import os\n",
    "import time\n",
    "import json\n",
    "# import webdriver \n",
    "from selenium.webdriver.chrome.options import Options \n",
    "from selenium import webdriver  \n",
    "from selenium.webdriver.common.by import By \n",
    "from selenium.webdriver.support.ui import WebDriverWait \n",
    "from selenium.webdriver.support import expected_conditions as EC\n",
    "from selenium.common.exceptions import NoSuchElementException\n",
    "from selenium.common.exceptions import ElementNotVisibleException \n",
    "\n",
    "    \n",
    "\n",
    "CHROME_DRIVER = r'C:\\Users\\Admin\\Documents\\projects\\bots\\shark\\bot\\driver/chromedriver.exe'\n",
    "\n",
    "\n",
    "\n",
    "# create webdriver object  \n",
    "chrome_options = Options()\n",
    "chrome_options.add_argument(\"--incognito\")\n",
    "chrome_options.add_argument(\"--start-maximized\")\n",
    "driver = webdriver.Chrome(options=chrome_options, executable_path=CHROME_DRIVER)\n",
    "\n",
    "url = \"https://web.whatsapp.com/\"  \n",
    "driver.get(url)"
   ]
  },
  {
   "cell_type": "code",
   "execution_count": 11,
   "metadata": {},
   "outputs": [],
   "source": [
    "def resource_path( relative_path):\n",
    "\n",
    "        try:\n",
    "            base_path = sys._MEIPASS\n",
    "            \n",
    "        except Exception:\n",
    "            base_path = os.path.dirname(os.path.abspath(__file__))\n",
    "        return os.path.join(base_path, relative_path)"
   ]
  },
  {
   "cell_type": "code",
   "execution_count": 15,
   "metadata": {},
   "outputs": [
    {
     "name": "stdout",
     "output_type": "stream",
     "text": [
      "C:\\Users\\Admin\\Documents\\projects\\bots\\whatsapp\\bot\\driver\\geckodriver.exe\n"
     ]
    }
   ],
   "source": [
    "    # import webdriver \n",
    "from selenium.webdriver.chrome.options import Options \n",
    "from selenium import webdriver  \n",
    "from selenium.webdriver.common.by import By \n",
    "from selenium.webdriver.support.ui import WebDriverWait \n",
    "from selenium.webdriver.support import expected_conditions as EC\n",
    "from selenium.common.exceptions import NoSuchElementException, StaleElementReferenceException, TimeoutException\n",
    "from selenium.common.exceptions import ElementNotVisibleException\n",
    "from selenium.webdriver.common.action_chains import ActionChains\n",
    "from selenium.webdriver.common.keys import Keys\n",
    "\n",
    "options = webdriver.FirefoxOptions()\n",
    "options.add_argument(\"--incognito\")\n",
    "\n",
    "\n",
    "\n",
    "firefox_capabilities = DesiredCapabilities.FIREFOX\n",
    "firefox_capabilities[\"marionette\"] = True\n",
    "\n",
    "#driver_url = \"/driver/geckodriver.exe\"\n",
    "#GECKO_DRIVER = resource_path(driver_url)\n",
    "GECKO_DRIVER = r\"C:\\Users\\Admin\\Documents\\projects\\bots\\whatsapp\\bot\\driver\\geckodriver.exe\"\n",
    "print(GECKO_DRIVER)\n",
    "\n",
    "# run firefox webdriver from executable path \n",
    "driver = webdriver.Firefox(options=options, capabilities=cap, executable_path = GECKO_DRIVER)\n",
    "\n",
    "\n",
    "url = \"https://web.whatsapp.com/\"\n",
    "driver.get(url)"
   ]
  },
  {
   "cell_type": "code",
   "execution_count": 5,
   "metadata": {},
   "outputs": [
    {
     "ename": "NoSuchElementException",
     "evalue": "Message: no such element: Unable to locate element: {\"method\":\"xpath\",\"selector\":\"//span[contains(@class, 'emoji-texttt _ccCW FqYAR i0jNr') and text() = 'Account Verification Docu']\"}\n  (Session info: chrome=95.0.4638.69)\n",
     "output_type": "error",
     "traceback": [
      "\u001b[1;31m---------------------------------------------------------------------------\u001b[0m",
      "\u001b[1;31mNoSuchElementException\u001b[0m                    Traceback (most recent call last)",
      "\u001b[1;32m<ipython-input-5-02150d44ec63>\u001b[0m in \u001b[0;36m<module>\u001b[1;34m\u001b[0m\n\u001b[1;32m----> 1\u001b[1;33m \u001b[0mx\u001b[0m \u001b[1;33m=\u001b[0m \u001b[0mdriver\u001b[0m\u001b[1;33m.\u001b[0m\u001b[0mfind_element_by_xpath\u001b[0m\u001b[1;33m(\u001b[0m\u001b[1;34m\"//span[contains(@class, 'emoji-texttt _ccCW FqYAR i0jNr') and text() = 'Account Verification Docu']\"\u001b[0m\u001b[1;33m)\u001b[0m\u001b[1;33m\u001b[0m\u001b[1;33m\u001b[0m\u001b[0m\n\u001b[0m\u001b[0;32m      2\u001b[0m \u001b[0mx\u001b[0m\u001b[1;33m.\u001b[0m\u001b[0mclick\u001b[0m\u001b[1;33m(\u001b[0m\u001b[1;33m)\u001b[0m\u001b[1;33m\u001b[0m\u001b[1;33m\u001b[0m\u001b[0m\n",
      "\u001b[1;32m~\\.conda\\envs\\dev_Env\\lib\\site-packages\\selenium\\webdriver\\remote\\webdriver.py\u001b[0m in \u001b[0;36mfind_element_by_xpath\u001b[1;34m(self, xpath)\u001b[0m\n\u001b[0;32m    392\u001b[0m             \u001b[0melement\u001b[0m \u001b[1;33m=\u001b[0m \u001b[0mdriver\u001b[0m\u001b[1;33m.\u001b[0m\u001b[0mfind_element_by_xpath\u001b[0m\u001b[1;33m(\u001b[0m\u001b[1;34m'//div/td[1]'\u001b[0m\u001b[1;33m)\u001b[0m\u001b[1;33m\u001b[0m\u001b[1;33m\u001b[0m\u001b[0m\n\u001b[0;32m    393\u001b[0m         \"\"\"\n\u001b[1;32m--> 394\u001b[1;33m         \u001b[1;32mreturn\u001b[0m \u001b[0mself\u001b[0m\u001b[1;33m.\u001b[0m\u001b[0mfind_element\u001b[0m\u001b[1;33m(\u001b[0m\u001b[0mby\u001b[0m\u001b[1;33m=\u001b[0m\u001b[0mBy\u001b[0m\u001b[1;33m.\u001b[0m\u001b[0mXPATH\u001b[0m\u001b[1;33m,\u001b[0m \u001b[0mvalue\u001b[0m\u001b[1;33m=\u001b[0m\u001b[0mxpath\u001b[0m\u001b[1;33m)\u001b[0m\u001b[1;33m\u001b[0m\u001b[1;33m\u001b[0m\u001b[0m\n\u001b[0m\u001b[0;32m    395\u001b[0m \u001b[1;33m\u001b[0m\u001b[0m\n\u001b[0;32m    396\u001b[0m     \u001b[1;32mdef\u001b[0m \u001b[0mfind_elements_by_xpath\u001b[0m\u001b[1;33m(\u001b[0m\u001b[0mself\u001b[0m\u001b[1;33m,\u001b[0m \u001b[0mxpath\u001b[0m\u001b[1;33m)\u001b[0m\u001b[1;33m:\u001b[0m\u001b[1;33m\u001b[0m\u001b[1;33m\u001b[0m\u001b[0m\n",
      "\u001b[1;32m~\\.conda\\envs\\dev_Env\\lib\\site-packages\\selenium\\webdriver\\remote\\webdriver.py\u001b[0m in \u001b[0;36mfind_element\u001b[1;34m(self, by, value)\u001b[0m\n\u001b[0;32m    974\u001b[0m                 \u001b[0mby\u001b[0m \u001b[1;33m=\u001b[0m \u001b[0mBy\u001b[0m\u001b[1;33m.\u001b[0m\u001b[0mCSS_SELECTOR\u001b[0m\u001b[1;33m\u001b[0m\u001b[1;33m\u001b[0m\u001b[0m\n\u001b[0;32m    975\u001b[0m                 \u001b[0mvalue\u001b[0m \u001b[1;33m=\u001b[0m \u001b[1;34m'[name=\"%s\"]'\u001b[0m \u001b[1;33m%\u001b[0m \u001b[0mvalue\u001b[0m\u001b[1;33m\u001b[0m\u001b[1;33m\u001b[0m\u001b[0m\n\u001b[1;32m--> 976\u001b[1;33m         return self.execute(Command.FIND_ELEMENT, {\n\u001b[0m\u001b[0;32m    977\u001b[0m             \u001b[1;34m'using'\u001b[0m\u001b[1;33m:\u001b[0m \u001b[0mby\u001b[0m\u001b[1;33m,\u001b[0m\u001b[1;33m\u001b[0m\u001b[1;33m\u001b[0m\u001b[0m\n\u001b[0;32m    978\u001b[0m             'value': value})['value']\n",
      "\u001b[1;32m~\\.conda\\envs\\dev_Env\\lib\\site-packages\\selenium\\webdriver\\remote\\webdriver.py\u001b[0m in \u001b[0;36mexecute\u001b[1;34m(self, driver_command, params)\u001b[0m\n\u001b[0;32m    319\u001b[0m         \u001b[0mresponse\u001b[0m \u001b[1;33m=\u001b[0m \u001b[0mself\u001b[0m\u001b[1;33m.\u001b[0m\u001b[0mcommand_executor\u001b[0m\u001b[1;33m.\u001b[0m\u001b[0mexecute\u001b[0m\u001b[1;33m(\u001b[0m\u001b[0mdriver_command\u001b[0m\u001b[1;33m,\u001b[0m \u001b[0mparams\u001b[0m\u001b[1;33m)\u001b[0m\u001b[1;33m\u001b[0m\u001b[1;33m\u001b[0m\u001b[0m\n\u001b[0;32m    320\u001b[0m         \u001b[1;32mif\u001b[0m \u001b[0mresponse\u001b[0m\u001b[1;33m:\u001b[0m\u001b[1;33m\u001b[0m\u001b[1;33m\u001b[0m\u001b[0m\n\u001b[1;32m--> 321\u001b[1;33m             \u001b[0mself\u001b[0m\u001b[1;33m.\u001b[0m\u001b[0merror_handler\u001b[0m\u001b[1;33m.\u001b[0m\u001b[0mcheck_response\u001b[0m\u001b[1;33m(\u001b[0m\u001b[0mresponse\u001b[0m\u001b[1;33m)\u001b[0m\u001b[1;33m\u001b[0m\u001b[1;33m\u001b[0m\u001b[0m\n\u001b[0m\u001b[0;32m    322\u001b[0m             response['value'] = self._unwrap_value(\n\u001b[0;32m    323\u001b[0m                 response.get('value', None))\n",
      "\u001b[1;32m~\\.conda\\envs\\dev_Env\\lib\\site-packages\\selenium\\webdriver\\remote\\errorhandler.py\u001b[0m in \u001b[0;36mcheck_response\u001b[1;34m(self, response)\u001b[0m\n\u001b[0;32m    240\u001b[0m                 \u001b[0malert_text\u001b[0m \u001b[1;33m=\u001b[0m \u001b[0mvalue\u001b[0m\u001b[1;33m[\u001b[0m\u001b[1;34m'alert'\u001b[0m\u001b[1;33m]\u001b[0m\u001b[1;33m.\u001b[0m\u001b[0mget\u001b[0m\u001b[1;33m(\u001b[0m\u001b[1;34m'text'\u001b[0m\u001b[1;33m)\u001b[0m\u001b[1;33m\u001b[0m\u001b[1;33m\u001b[0m\u001b[0m\n\u001b[0;32m    241\u001b[0m             \u001b[1;32mraise\u001b[0m \u001b[0mexception_class\u001b[0m\u001b[1;33m(\u001b[0m\u001b[0mmessage\u001b[0m\u001b[1;33m,\u001b[0m \u001b[0mscreen\u001b[0m\u001b[1;33m,\u001b[0m \u001b[0mstacktrace\u001b[0m\u001b[1;33m,\u001b[0m \u001b[0malert_text\u001b[0m\u001b[1;33m)\u001b[0m\u001b[1;33m\u001b[0m\u001b[1;33m\u001b[0m\u001b[0m\n\u001b[1;32m--> 242\u001b[1;33m         \u001b[1;32mraise\u001b[0m \u001b[0mexception_class\u001b[0m\u001b[1;33m(\u001b[0m\u001b[0mmessage\u001b[0m\u001b[1;33m,\u001b[0m \u001b[0mscreen\u001b[0m\u001b[1;33m,\u001b[0m \u001b[0mstacktrace\u001b[0m\u001b[1;33m)\u001b[0m\u001b[1;33m\u001b[0m\u001b[1;33m\u001b[0m\u001b[0m\n\u001b[0m\u001b[0;32m    243\u001b[0m \u001b[1;33m\u001b[0m\u001b[0m\n\u001b[0;32m    244\u001b[0m     \u001b[1;32mdef\u001b[0m \u001b[0m_value_or_default\u001b[0m\u001b[1;33m(\u001b[0m\u001b[0mself\u001b[0m\u001b[1;33m,\u001b[0m \u001b[0mobj\u001b[0m\u001b[1;33m,\u001b[0m \u001b[0mkey\u001b[0m\u001b[1;33m,\u001b[0m \u001b[0mdefault\u001b[0m\u001b[1;33m)\u001b[0m\u001b[1;33m:\u001b[0m\u001b[1;33m\u001b[0m\u001b[1;33m\u001b[0m\u001b[0m\n",
      "\u001b[1;31mNoSuchElementException\u001b[0m: Message: no such element: Unable to locate element: {\"method\":\"xpath\",\"selector\":\"//span[contains(@class, 'emoji-texttt _ccCW FqYAR i0jNr') and text() = 'Account Verification Docu']\"}\n  (Session info: chrome=95.0.4638.69)\n"
     ]
    }
   ],
   "source": [
    "x = driver.find_element_by_xpath(\"//span[contains(@class, 'emoji-texttt _ccCW FqYAR i0jNr') and text() = 'Account Verification Docu']\")\n",
    "x.click()"
   ]
  },
  {
   "cell_type": "code",
   "execution_count": 24,
   "metadata": {},
   "outputs": [
    {
     "name": "stdout",
     "output_type": "stream",
     "text": [
      "Element found and clicked\n"
     ]
    }
   ],
   "source": [
    "from time import sleep\n",
    "from selenium.common.exceptions import NoSuchElementException, StaleElementReferenceException, TimeoutException\n",
    "\n",
    "driver.refresh()\n",
    "try:\n",
    "     WebDriverWait(driver, 240).until(EC.visibility_of_any_elements_located((By.ID, \"pane-side\")))\n",
    "except (ElementNotVisibleException, NoSuchElementException, TimeoutException) as e:\n",
    "     driver.save_screenshot(\"error_file.png\")\n",
    "\n",
    "\n",
    "\n",
    "xpath_element = \"//*[@id='pane-side']\"\n",
    "chat_body = driver.find_element_by_xpath(xpath_element)\n",
    "# ensure that you are at the top of the scrollable div\n",
    "driver.execute_script(\"arguments[0].scrollIntoView();\", chat_body)\n",
    "scroll = True\n",
    "while scroll:  # this will scroll 3 times\n",
    "     try:\n",
    "          WebDriverWait(driver, 4).until(EC.element_to_be_clickable((By.XPATH, \"//span[contains(@class, 'emoji-texttt _ccCW FqYAR i0jNr') and text() = 'TRM Freelancers']\")))\n",
    "          group_link = driver.find_element_by_xpath(\"//span[contains(@class, 'emoji-texttt _ccCW FqYAR i0jNr') and text() = 'TRM Freelancers']\")\n",
    "          group_link.click()\n",
    "     except (NoSuchElementException, TimeoutException) as e:\n",
    "          driver.execute_script('arguments[0].scrollTop = arguments[0].scrollTop + arguments[0].offsetHeight;',chat_body)\n",
    "     else:\n",
    "          #group_link = driver.find_element_by_xpath(\"//span[contains(@class, 'emoji-texttt _ccCW FqYAR i0jNr') and text() = 'AWWB Kikuyu']\")\n",
    "          #group_link.click()\n",
    "          print(\"Element found and clicked\")\n",
    "          scroll = False\n",
    "          break\n",
    "     # add appropriate wait here, of course. 1-2 seconds each\n",
    "     print (\"Searching for group....\")\n",
    "     \n",
    "     # check if at the bottom\n",
    "     try:\n",
    "          x = driver.find_element_by_xpath(\"//span[contains(@class, 'emoji-texttt _ccCW FqYAR i0jNr') and text() = 'Futa live']\")\n",
    "          \n",
    "     except NoSuchElementException:\n",
    "          # pause\n",
    "          sleep(0.1)\n",
    "     else:\n",
    "          x.click()\n",
    "          print(\"Group not found, exiting search loop\")\n",
    "          # break out of the loop when element is present\n",
    "          scroll = False"
   ]
  },
  {
   "cell_type": "code",
   "execution_count": 25,
   "metadata": {},
   "outputs": [],
   "source": [
    "# send message to field\n",
    "\n",
    "x = driver.find_element_by_xpath(\"//div[contains(@class,'_1UWac _1LbR4')]//div[contains(@class, '_13NKt copyable-text selectable-text')]\")\n",
    "\n",
    "message = \"\"\"# Rdps for all countries available from as slow as sh 500\n",
    "\n",
    "#Bidding bots for almost\n",
    " bidding accounts\n",
    "\n",
    "#Netflix ULTRA HD logins\n",
    "\n",
    "RELIABLE SHARED LOGINS🥀🥀🥀\n",
    "==============================\"\"\"\n",
    "\n",
    "x.send_keys(message)"
   ]
  },
  {
   "cell_type": "code",
   "execution_count": 23,
   "metadata": {},
   "outputs": [],
   "source": [
    "send_button = driver.find_element_by_class_name(\"_4sWnG\")\n",
    "send_button.click()"
   ]
  },
  {
   "cell_type": "markdown",
   "metadata": {},
   "source": [
    "_1UWac _1LbR4"
   ]
  },
  {
   "cell_type": "markdown",
   "metadata": {},
   "source": [
    "# class Structure\n",
    "\n",
    "Class whatsappweb:\n",
    "     def post_message(self, list_of_group_names, message)"
   ]
  },
  {
   "cell_type": "markdown",
   "metadata": {},
   "source": [
    "# GUI "
   ]
  },
  {
   "cell_type": "code",
   "execution_count": 1,
   "metadata": {},
   "outputs": [],
   "source": [
    "import os\n",
    "import wx\n",
    "\n",
    "class whatsappPanel(wx.Panel):\n",
    "\n",
    "        #----------------------------------------------------------------------\n",
    "        def __init__(self, parent):\n",
    "            wx.Panel(self, parent)\n",
    "            \n",
    "            self.layout()\n",
    "\n",
    "        #----------------------------------------------------------------------\n",
    "        def layout(self):\n",
    "            # create main horizontal sizer\n",
    "            self.mainSizer = wx.BoxSizer(wx.HORIZONTAL)\n",
    "            # create two box sizers\n",
    "            groupBoxSizer = wx.BoxSizer(wx.VERTICAL)\n",
    "            messageBoxSizer = wx.BoxSizer(wx.VERTICAL)\n",
    "            # add list box and button to group boxgroup\n",
    "            self.group_names = []\n",
    "            self.groupListBox = wx.CheckListBox(self, -1, self.group_names, style=0, name=\"groupListBox\")\n",
    "\n",
    "            #sizer to hold button\n",
    "            btnSizer = wx.BoxSizer(wx.HORIZONTAL)\n",
    "\n",
    "            btnData = [(\"Previous\", btnSizer, self.onPrevious),\n",
    "            (\"Slide Show\", btnSizer, self.onSlideShow),\n",
    "            (\"Next\", btnSizer, self.onNext)]\n",
    "\n",
    "            for data in btnData:\n",
    "                label, sizer, handler = data\n",
    "            self.btnBuilder(label, sizer, handler)\n",
    "\n",
    "            groupBoxSizer.Add(btnSizer, 1, wx.CENTER)\n",
    "\n",
    "            self.mainSizer.Add(groupBoxSizer, 1, wx.CENTER)\n",
    "            # Populate message box sizer\n",
    "            self.messageTxtField = wx.TextCtrl(self, -1, \"\", style=wx.TE_RICH|wx.TE_MULTILINE)\n",
    "            messageBoxSizer.Add(self.messageTxtField, 1, wx.CENTER)\n",
    "            # Add save button\n",
    "            save_message = self.btnBuilder(\"Save Message\", messageBoxSizer, self.onSaveMessage)\n",
    "\n",
    "            self.mainSizer.Add(messageBoxSizer, 1, wx.CENTER)\n",
    "            self.SetSizer(self.mainSizer)\n",
    "            \n",
    "        #----------------------------------------------------------------------\n",
    "        def btnBuilder(self, label, sizer, handler):\n",
    "            \"\"\"\n",
    "            Builds a button, binds it to an event handler and adds it to a sizer\n",
    "            \"\"\"\n",
    "            btn = wx.Button(self, label=label)\n",
    "            btn.Bind(wx.EVT_BUTTON, handler)\n",
    "            sizer.Add(btn, 0, wx.ALL|wx.CENTER, 5)\n",
    "\n",
    "        #-----------------------------------------------------------------------\n",
    "        def onSaveMessage(self, evt):\n",
    "            pass\n",
    "\n",
    "\n",
    "class WhatsappBotFrame(wx.Frame):\n",
    "    \"\"\"Whatsapp GUI Frame\"\"\"\n",
    "    def __init__(self, parent):\n",
    "        self.title = \"Whatsapp Bot\"\n",
    "        wx.Frame.__init__(self, parent, -1, self.title, size=(800,600))\n",
    "        self.createMenuBar()\n",
    "\n",
    "        self.createPanel()\n",
    "\n",
    "    def createPanel(self):\n",
    "        whatsappPanel = WhatsappPanel(self)\n",
    "        box = wx.BoxSizer(wx.HORIZONTAL)\n",
    "        box.Add(whatsappPanel, 1, wx.EXPAND)\n",
    "        self.SetSizer(box)\n",
    "\n",
    "    def menuData(self):\n",
    "        return [(\"&File\", (\n",
    "                    (\"&New\", \"New Sketch file\", self.OnNew),\n",
    "                    (\"&Open\", \"Open sketch file\", self.OnOpen),\n",
    "                    (\"&Save\", \"Save sketch file\", self.OnSave),\n",
    "                    (\"\", \"\", \"\"),\n",
    "                    (\"&Color\", (\n",
    "                        (\"&Black\", \"\", self.OnColor, wx.ITEM_RADIO),\n",
    "                        (\"&Red\", \"\", self.OnColor, wx.ITEM_RADIO),\n",
    "                        (\"&Green\", \"\", self.OnColor, wx.ITEM_RADIO),\n",
    "                        (\"&Blue\", \"\", self.OnColor, wx.ITEM_RADIO),\n",
    "                        (\"&Other...\", \"\", self.OnOtherColor, wx.ITEM_RADIO))),\n",
    "                    (\"\", \"\", \"\"),\n",
    "                    (\"About...\", \"Show about window\", self.OnAbout),\n",
    "                    (\"&Quit\", \"Quit\", self.OnCloseWindow)))]\n",
    "\n",
    "    def createMenuBar(self):\n",
    "        menuBar = wx.MenuBar()\n",
    "        for eachMenuData in self.menuData():\n",
    "            menuLabel = eachMenuData[0]\n",
    "            menuItems = eachMenuData[1]\n",
    "            menuBar.Append(self.createMenu(menuItems), menuLabel)\n",
    "        self.SetMenuBar(menuBar)\n",
    "\n",
    "    def createMenu(self, menuData):\n",
    "        menu = wx.Menu()\n",
    "        for eachItem in menuData:\n",
    "            if len(eachItem) == 2:\n",
    "                label = eachItem[0]\n",
    "                subMenu = self.createMenu(eachItem[1])\n",
    "                menu.AppendMenu(wx.NewId(), label, subMenu)\n",
    "            else:\n",
    "                self.createMenuItem(menu, *eachItem)\n",
    "        return menu\n",
    "\n",
    "    def createMenuItem(self, menu, label, status, handler, kind=wx.ITEM_NORMAL):\n",
    "        if not label:\n",
    "            menu.AppendSeparator()\n",
    "            return\n",
    "        menuItem = menu.Append(-1, label, status, kind)\n",
    "        self.Bind(wx.EVT_MENU, handler, menuItem)\n",
    "\n",
    "    \n"
   ]
  }
 ],
 "metadata": {
  "interpreter": {
   "hash": "99bf5a9c48c7746f300777c5fc4aad4dd0a640919d6e9012e70a46d120965f84"
  },
  "kernelspec": {
   "display_name": "Python 3.8.5 64-bit ('dev_Env': conda)",
   "name": "python3"
  },
  "language_info": {
   "codemirror_mode": {
    "name": "ipython",
    "version": 3
   },
   "file_extension": ".py",
   "mimetype": "text/x-python",
   "name": "python",
   "nbconvert_exporter": "python",
   "pygments_lexer": "ipython3",
   "version": "3.8.5"
  },
  "orig_nbformat": 4
 },
 "nbformat": 4,
 "nbformat_minor": 2
}
